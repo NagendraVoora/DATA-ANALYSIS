{
  "nbformat": 4,
  "nbformat_minor": 0,
  "metadata": {
    "colab": {
      "provenance": []
    },
    "kernelspec": {
      "name": "python3",
      "display_name": "Python 3"
    },
    "language_info": {
      "name": "python"
    }
  },
  "cells": [
    {
      "cell_type": "code",
      "execution_count": 2,
      "metadata": {
        "id": "HlsN30JMK5NP"
      },
      "outputs": [],
      "source": [
        "import pandas as pd\n",
        "import numpy as np\n",
        "from matplotlib import pyplot as plt"
      ]
    },
    {
      "cell_type": "code",
      "source": [
        "Data=pd.read_csv(\"/content/scores_data.csv\")"
      ],
      "metadata": {
        "id": "L-5IxpHOLZ1j"
      },
      "execution_count": 4,
      "outputs": []
    },
    {
      "cell_type": "code",
      "source": [
        "Data.head(20)"
      ],
      "metadata": {
        "colab": {
          "base_uri": "https://localhost:8080/",
          "height": 677
        },
        "id": "55jTspQJLkXp",
        "outputId": "cd18567c-693b-43a1-8c4c-94eb08790ae4"
      },
      "execution_count": 6,
      "outputs": [
        {
          "output_type": "execute_result",
          "data": {
            "text/plain": [
              "        Batch  User_ID     Score   \n",
              "0   AI_ELITE_7  uid_149       6 / 7\n",
              "1   AI_ELITE_7  uid_148       6 / 7\n",
              "2   AI_ELITE_7  uid_147       7 / 7\n",
              "3   AI_ELITE_7  uid_146       7 / 7\n",
              "4   AI_ELITE_7  uid_145       4 / 7\n",
              "5   AI_ELITE_7  uid_144       7 / 7\n",
              "6   AI_ELITE_7  uid_143       5 / 7\n",
              "7   AI_ELITE_7  uid_142       7 / 7\n",
              "8   AI_ELITE_7  uid_141       3 / 7\n",
              "9   AI_ELITE_7  uid_140       6 / 7\n",
              "10  AI_ELITE_7  uid_139       6 / 7\n",
              "11  AI_ELITE_7  uid_138       3 / 7\n",
              "12  AI_ELITE_7  uid_137       6 / 7\n",
              "13  AI_ELITE_7  uid_136       5 / 7\n",
              "14  AI_ELITE_7  uid_135       6 / 7\n",
              "15  AI_ELITE_7  uid_134       7 / 7\n",
              "16  AI_ELITE_7  uid_133       7 / 7\n",
              "17  AI_ELITE_7  uid_132       7 / 7\n",
              "18  AI_ELITE_7  uid_131       5 / 7\n",
              "19  AI_ELITE_7  uid_130       7 / 7"
            ],
            "text/html": [
              "\n",
              "  <div id=\"df-fbb62cb3-aba0-49cc-a2ee-b309debf3cd8\">\n",
              "    <div class=\"colab-df-container\">\n",
              "      <div>\n",
              "<style scoped>\n",
              "    .dataframe tbody tr th:only-of-type {\n",
              "        vertical-align: middle;\n",
              "    }\n",
              "\n",
              "    .dataframe tbody tr th {\n",
              "        vertical-align: top;\n",
              "    }\n",
              "\n",
              "    .dataframe thead th {\n",
              "        text-align: right;\n",
              "    }\n",
              "</style>\n",
              "<table border=\"1\" class=\"dataframe\">\n",
              "  <thead>\n",
              "    <tr style=\"text-align: right;\">\n",
              "      <th></th>\n",
              "      <th>Batch</th>\n",
              "      <th>User_ID</th>\n",
              "      <th>Score</th>\n",
              "    </tr>\n",
              "  </thead>\n",
              "  <tbody>\n",
              "    <tr>\n",
              "      <th>0</th>\n",
              "      <td>AI_ELITE_7</td>\n",
              "      <td>uid_149</td>\n",
              "      <td>6 / 7</td>\n",
              "    </tr>\n",
              "    <tr>\n",
              "      <th>1</th>\n",
              "      <td>AI_ELITE_7</td>\n",
              "      <td>uid_148</td>\n",
              "      <td>6 / 7</td>\n",
              "    </tr>\n",
              "    <tr>\n",
              "      <th>2</th>\n",
              "      <td>AI_ELITE_7</td>\n",
              "      <td>uid_147</td>\n",
              "      <td>7 / 7</td>\n",
              "    </tr>\n",
              "    <tr>\n",
              "      <th>3</th>\n",
              "      <td>AI_ELITE_7</td>\n",
              "      <td>uid_146</td>\n",
              "      <td>7 / 7</td>\n",
              "    </tr>\n",
              "    <tr>\n",
              "      <th>4</th>\n",
              "      <td>AI_ELITE_7</td>\n",
              "      <td>uid_145</td>\n",
              "      <td>4 / 7</td>\n",
              "    </tr>\n",
              "    <tr>\n",
              "      <th>5</th>\n",
              "      <td>AI_ELITE_7</td>\n",
              "      <td>uid_144</td>\n",
              "      <td>7 / 7</td>\n",
              "    </tr>\n",
              "    <tr>\n",
              "      <th>6</th>\n",
              "      <td>AI_ELITE_7</td>\n",
              "      <td>uid_143</td>\n",
              "      <td>5 / 7</td>\n",
              "    </tr>\n",
              "    <tr>\n",
              "      <th>7</th>\n",
              "      <td>AI_ELITE_7</td>\n",
              "      <td>uid_142</td>\n",
              "      <td>7 / 7</td>\n",
              "    </tr>\n",
              "    <tr>\n",
              "      <th>8</th>\n",
              "      <td>AI_ELITE_7</td>\n",
              "      <td>uid_141</td>\n",
              "      <td>3 / 7</td>\n",
              "    </tr>\n",
              "    <tr>\n",
              "      <th>9</th>\n",
              "      <td>AI_ELITE_7</td>\n",
              "      <td>uid_140</td>\n",
              "      <td>6 / 7</td>\n",
              "    </tr>\n",
              "    <tr>\n",
              "      <th>10</th>\n",
              "      <td>AI_ELITE_7</td>\n",
              "      <td>uid_139</td>\n",
              "      <td>6 / 7</td>\n",
              "    </tr>\n",
              "    <tr>\n",
              "      <th>11</th>\n",
              "      <td>AI_ELITE_7</td>\n",
              "      <td>uid_138</td>\n",
              "      <td>3 / 7</td>\n",
              "    </tr>\n",
              "    <tr>\n",
              "      <th>12</th>\n",
              "      <td>AI_ELITE_7</td>\n",
              "      <td>uid_137</td>\n",
              "      <td>6 / 7</td>\n",
              "    </tr>\n",
              "    <tr>\n",
              "      <th>13</th>\n",
              "      <td>AI_ELITE_7</td>\n",
              "      <td>uid_136</td>\n",
              "      <td>5 / 7</td>\n",
              "    </tr>\n",
              "    <tr>\n",
              "      <th>14</th>\n",
              "      <td>AI_ELITE_7</td>\n",
              "      <td>uid_135</td>\n",
              "      <td>6 / 7</td>\n",
              "    </tr>\n",
              "    <tr>\n",
              "      <th>15</th>\n",
              "      <td>AI_ELITE_7</td>\n",
              "      <td>uid_134</td>\n",
              "      <td>7 / 7</td>\n",
              "    </tr>\n",
              "    <tr>\n",
              "      <th>16</th>\n",
              "      <td>AI_ELITE_7</td>\n",
              "      <td>uid_133</td>\n",
              "      <td>7 / 7</td>\n",
              "    </tr>\n",
              "    <tr>\n",
              "      <th>17</th>\n",
              "      <td>AI_ELITE_7</td>\n",
              "      <td>uid_132</td>\n",
              "      <td>7 / 7</td>\n",
              "    </tr>\n",
              "    <tr>\n",
              "      <th>18</th>\n",
              "      <td>AI_ELITE_7</td>\n",
              "      <td>uid_131</td>\n",
              "      <td>5 / 7</td>\n",
              "    </tr>\n",
              "    <tr>\n",
              "      <th>19</th>\n",
              "      <td>AI_ELITE_7</td>\n",
              "      <td>uid_130</td>\n",
              "      <td>7 / 7</td>\n",
              "    </tr>\n",
              "  </tbody>\n",
              "</table>\n",
              "</div>\n",
              "      <button class=\"colab-df-convert\" onclick=\"convertToInteractive('df-fbb62cb3-aba0-49cc-a2ee-b309debf3cd8')\"\n",
              "              title=\"Convert this dataframe to an interactive table.\"\n",
              "              style=\"display:none;\">\n",
              "        \n",
              "  <svg xmlns=\"http://www.w3.org/2000/svg\" height=\"24px\"viewBox=\"0 0 24 24\"\n",
              "       width=\"24px\">\n",
              "    <path d=\"M0 0h24v24H0V0z\" fill=\"none\"/>\n",
              "    <path d=\"M18.56 5.44l.94 2.06.94-2.06 2.06-.94-2.06-.94-.94-2.06-.94 2.06-2.06.94zm-11 1L8.5 8.5l.94-2.06 2.06-.94-2.06-.94L8.5 2.5l-.94 2.06-2.06.94zm10 10l.94 2.06.94-2.06 2.06-.94-2.06-.94-.94-2.06-.94 2.06-2.06.94z\"/><path d=\"M17.41 7.96l-1.37-1.37c-.4-.4-.92-.59-1.43-.59-.52 0-1.04.2-1.43.59L10.3 9.45l-7.72 7.72c-.78.78-.78 2.05 0 2.83L4 21.41c.39.39.9.59 1.41.59.51 0 1.02-.2 1.41-.59l7.78-7.78 2.81-2.81c.8-.78.8-2.07 0-2.86zM5.41 20L4 18.59l7.72-7.72 1.47 1.35L5.41 20z\"/>\n",
              "  </svg>\n",
              "      </button>\n",
              "      \n",
              "  <style>\n",
              "    .colab-df-container {\n",
              "      display:flex;\n",
              "      flex-wrap:wrap;\n",
              "      gap: 12px;\n",
              "    }\n",
              "\n",
              "    .colab-df-convert {\n",
              "      background-color: #E8F0FE;\n",
              "      border: none;\n",
              "      border-radius: 50%;\n",
              "      cursor: pointer;\n",
              "      display: none;\n",
              "      fill: #1967D2;\n",
              "      height: 32px;\n",
              "      padding: 0 0 0 0;\n",
              "      width: 32px;\n",
              "    }\n",
              "\n",
              "    .colab-df-convert:hover {\n",
              "      background-color: #E2EBFA;\n",
              "      box-shadow: 0px 1px 2px rgba(60, 64, 67, 0.3), 0px 1px 3px 1px rgba(60, 64, 67, 0.15);\n",
              "      fill: #174EA6;\n",
              "    }\n",
              "\n",
              "    [theme=dark] .colab-df-convert {\n",
              "      background-color: #3B4455;\n",
              "      fill: #D2E3FC;\n",
              "    }\n",
              "\n",
              "    [theme=dark] .colab-df-convert:hover {\n",
              "      background-color: #434B5C;\n",
              "      box-shadow: 0px 1px 3px 1px rgba(0, 0, 0, 0.15);\n",
              "      filter: drop-shadow(0px 1px 2px rgba(0, 0, 0, 0.3));\n",
              "      fill: #FFFFFF;\n",
              "    }\n",
              "  </style>\n",
              "\n",
              "      <script>\n",
              "        const buttonEl =\n",
              "          document.querySelector('#df-fbb62cb3-aba0-49cc-a2ee-b309debf3cd8 button.colab-df-convert');\n",
              "        buttonEl.style.display =\n",
              "          google.colab.kernel.accessAllowed ? 'block' : 'none';\n",
              "\n",
              "        async function convertToInteractive(key) {\n",
              "          const element = document.querySelector('#df-fbb62cb3-aba0-49cc-a2ee-b309debf3cd8');\n",
              "          const dataTable =\n",
              "            await google.colab.kernel.invokeFunction('convertToInteractive',\n",
              "                                                     [key], {});\n",
              "          if (!dataTable) return;\n",
              "\n",
              "          const docLinkHtml = 'Like what you see? Visit the ' +\n",
              "            '<a target=\"_blank\" href=https://colab.research.google.com/notebooks/data_table.ipynb>data table notebook</a>'\n",
              "            + ' to learn more about interactive tables.';\n",
              "          element.innerHTML = '';\n",
              "          dataTable['output_type'] = 'display_data';\n",
              "          await google.colab.output.renderOutput(dataTable, element);\n",
              "          const docLink = document.createElement('div');\n",
              "          docLink.innerHTML = docLinkHtml;\n",
              "          element.appendChild(docLink);\n",
              "        }\n",
              "      </script>\n",
              "    </div>\n",
              "  </div>\n",
              "  "
            ]
          },
          "metadata": {},
          "execution_count": 6
        }
      ]
    },
    {
      "cell_type": "code",
      "source": [
        "Data.columns"
      ],
      "metadata": {
        "colab": {
          "base_uri": "https://localhost:8080/"
        },
        "id": "-pvl7BQvLtc5",
        "outputId": "dc10edd3-f76d-440e-dd8e-0fc3dd5ef5d1"
      },
      "execution_count": 7,
      "outputs": [
        {
          "output_type": "execute_result",
          "data": {
            "text/plain": [
              "Index(['Batch ', 'User_ID ', '   Score   '], dtype='object')"
            ]
          },
          "metadata": {},
          "execution_count": 7
        }
      ]
    },
    {
      "cell_type": "code",
      "source": [
        "Data[\"Batch \"].unique()"
      ],
      "metadata": {
        "colab": {
          "base_uri": "https://localhost:8080/"
        },
        "id": "MLUENhDuL4AO",
        "outputId": "76ada5be-93fe-45e2-cc55-221b45e9df61"
      },
      "execution_count": 11,
      "outputs": [
        {
          "output_type": "execute_result",
          "data": {
            "text/plain": [
              "array(['AI_ELITE_7', 'AI_ELITE_6', 'AI_ELITE_4'], dtype=object)"
            ]
          },
          "metadata": {},
          "execution_count": 11
        }
      ]
    },
    {
      "cell_type": "code",
      "source": [
        "Data.isnull().sum()"
      ],
      "metadata": {
        "colab": {
          "base_uri": "https://localhost:8080/"
        },
        "id": "8xf_thgPMChB",
        "outputId": "90ff6727-afee-4ab9-bd64-5916a947941f"
      },
      "execution_count": 13,
      "outputs": [
        {
          "output_type": "execute_result",
          "data": {
            "text/plain": [
              "Batch          0\n",
              "User_ID        0\n",
              "   Score       0\n",
              "dtype: int64"
            ]
          },
          "metadata": {},
          "execution_count": 13
        }
      ]
    },
    {
      "cell_type": "code",
      "source": [
        "Data[\"Batch \"].value_counts()"
      ],
      "metadata": {
        "colab": {
          "base_uri": "https://localhost:8080/"
        },
        "id": "uAilpk-_MIaq",
        "outputId": "0faeb3e2-a023-4415-a9bd-ea06ab9ff127"
      },
      "execution_count": 16,
      "outputs": [
        {
          "output_type": "execute_result",
          "data": {
            "text/plain": [
              "AI_ELITE_7    53\n",
              "AI_ELITE_6    48\n",
              "AI_ELITE_4    48\n",
              "Name: Batch , dtype: int64"
            ]
          },
          "metadata": {},
          "execution_count": 16
        }
      ]
    },
    {
      "cell_type": "code",
      "source": [
        "Data[\"Batch \"].describe()"
      ],
      "metadata": {
        "colab": {
          "base_uri": "https://localhost:8080/"
        },
        "id": "HecRisFFMWaB",
        "outputId": "e9220454-c1ec-4743-f488-5006c681c2b0"
      },
      "execution_count": 17,
      "outputs": [
        {
          "output_type": "execute_result",
          "data": {
            "text/plain": [
              "count            149\n",
              "unique             3\n",
              "top       AI_ELITE_7\n",
              "freq              53\n",
              "Name: Batch , dtype: object"
            ]
          },
          "metadata": {},
          "execution_count": 17
        }
      ]
    },
    {
      "cell_type": "code",
      "source": [
        "Data[\"User_ID \"].describe()"
      ],
      "metadata": {
        "colab": {
          "base_uri": "https://localhost:8080/"
        },
        "id": "zztPUcioMfUu",
        "outputId": "875628df-68a8-4cc6-9e8d-3ac480a53584"
      },
      "execution_count": 23,
      "outputs": [
        {
          "output_type": "execute_result",
          "data": {
            "text/plain": [
              "count         149\n",
              "unique        149\n",
              "top       uid_149\n",
              "freq            1\n",
              "Name: User_ID , dtype: object"
            ]
          },
          "metadata": {},
          "execution_count": 23
        }
      ]
    },
    {
      "cell_type": "code",
      "source": [
        "Data[list(Data.columns)[2]].describe()"
      ],
      "metadata": {
        "colab": {
          "base_uri": "https://localhost:8080/"
        },
        "id": "6L02RmGzM1gp",
        "outputId": "2c53c4f5-7d0e-4143-a99d-427f2bda6b1f"
      },
      "execution_count": 27,
      "outputs": [
        {
          "output_type": "execute_result",
          "data": {
            "text/plain": [
              "count       149\n",
              "unique        8\n",
              "top       4 / 7\n",
              "freq         40\n",
              "Name:    Score   , dtype: object"
            ]
          },
          "metadata": {},
          "execution_count": 27
        }
      ]
    },
    {
      "cell_type": "code",
      "source": [
        "for i in range(len(Data)):\n",
        "  Data.loc[i,\"marks\"]=Data.loc[i,list(Data.columns)[2]][0]"
      ],
      "metadata": {
        "id": "WMyOnKzWNX7e"
      },
      "execution_count": 30,
      "outputs": []
    },
    {
      "cell_type": "code",
      "source": [
        "Data[\"marks\"]"
      ],
      "metadata": {
        "colab": {
          "base_uri": "https://localhost:8080/"
        },
        "id": "b6TcnOi-Nh-V",
        "outputId": "d7e78e9d-0207-4085-e980-8c80924a6044"
      },
      "execution_count": 31,
      "outputs": [
        {
          "output_type": "execute_result",
          "data": {
            "text/plain": [
              "0      6\n",
              "1      6\n",
              "2      7\n",
              "3      7\n",
              "4      4\n",
              "      ..\n",
              "144    4\n",
              "145    4\n",
              "146    4\n",
              "147    3\n",
              "148    2\n",
              "Name: marks, Length: 149, dtype: object"
            ]
          },
          "metadata": {},
          "execution_count": 31
        }
      ]
    },
    {
      "cell_type": "code",
      "source": [
        "k=Data.groupby([\"Batch \"])"
      ],
      "metadata": {
        "id": "b9b7VWRvN-hX"
      },
      "execution_count": 33,
      "outputs": []
    },
    {
      "cell_type": "code",
      "source": [
        "k.describe()"
      ],
      "metadata": {
        "colab": {
          "base_uri": "https://localhost:8080/",
          "height": 206
        },
        "id": "fW1yA4NOOIR2",
        "outputId": "8975e114-243a-49e3-9160-25f5d6f6a918"
      },
      "execution_count": 34,
      "outputs": [
        {
          "output_type": "execute_result",
          "data": {
            "text/plain": [
              "           User_ID                          Score                       marks  \\\n",
              "              count unique      top freq       count unique    top freq count   \n",
              "Batch                                                                           \n",
              "AI_ELITE_4       48     48   uid_48    1          48      8  4 / 7   19    48   \n",
              "AI_ELITE_6       48     48   uid_96    1          48      8  5 / 7   13    48   \n",
              "AI_ELITE_7       53     53  uid_149    1          53      6  6 / 7   13    53   \n",
              "\n",
              "                            \n",
              "           unique top freq  \n",
              "Batch                       \n",
              "AI_ELITE_4      8   4   19  \n",
              "AI_ELITE_6      8   5   13  \n",
              "AI_ELITE_7      6   6   13  "
            ],
            "text/html": [
              "\n",
              "  <div id=\"df-2f873884-cc29-4b51-89cf-85a110184fdd\">\n",
              "    <div class=\"colab-df-container\">\n",
              "      <div>\n",
              "<style scoped>\n",
              "    .dataframe tbody tr th:only-of-type {\n",
              "        vertical-align: middle;\n",
              "    }\n",
              "\n",
              "    .dataframe tbody tr th {\n",
              "        vertical-align: top;\n",
              "    }\n",
              "\n",
              "    .dataframe thead tr th {\n",
              "        text-align: left;\n",
              "    }\n",
              "\n",
              "    .dataframe thead tr:last-of-type th {\n",
              "        text-align: right;\n",
              "    }\n",
              "</style>\n",
              "<table border=\"1\" class=\"dataframe\">\n",
              "  <thead>\n",
              "    <tr>\n",
              "      <th></th>\n",
              "      <th colspan=\"4\" halign=\"left\">User_ID</th>\n",
              "      <th colspan=\"4\" halign=\"left\">Score</th>\n",
              "      <th colspan=\"4\" halign=\"left\">marks</th>\n",
              "    </tr>\n",
              "    <tr>\n",
              "      <th></th>\n",
              "      <th>count</th>\n",
              "      <th>unique</th>\n",
              "      <th>top</th>\n",
              "      <th>freq</th>\n",
              "      <th>count</th>\n",
              "      <th>unique</th>\n",
              "      <th>top</th>\n",
              "      <th>freq</th>\n",
              "      <th>count</th>\n",
              "      <th>unique</th>\n",
              "      <th>top</th>\n",
              "      <th>freq</th>\n",
              "    </tr>\n",
              "    <tr>\n",
              "      <th>Batch</th>\n",
              "      <th></th>\n",
              "      <th></th>\n",
              "      <th></th>\n",
              "      <th></th>\n",
              "      <th></th>\n",
              "      <th></th>\n",
              "      <th></th>\n",
              "      <th></th>\n",
              "      <th></th>\n",
              "      <th></th>\n",
              "      <th></th>\n",
              "      <th></th>\n",
              "    </tr>\n",
              "  </thead>\n",
              "  <tbody>\n",
              "    <tr>\n",
              "      <th>AI_ELITE_4</th>\n",
              "      <td>48</td>\n",
              "      <td>48</td>\n",
              "      <td>uid_48</td>\n",
              "      <td>1</td>\n",
              "      <td>48</td>\n",
              "      <td>8</td>\n",
              "      <td>4 / 7</td>\n",
              "      <td>19</td>\n",
              "      <td>48</td>\n",
              "      <td>8</td>\n",
              "      <td>4</td>\n",
              "      <td>19</td>\n",
              "    </tr>\n",
              "    <tr>\n",
              "      <th>AI_ELITE_6</th>\n",
              "      <td>48</td>\n",
              "      <td>48</td>\n",
              "      <td>uid_96</td>\n",
              "      <td>1</td>\n",
              "      <td>48</td>\n",
              "      <td>8</td>\n",
              "      <td>5 / 7</td>\n",
              "      <td>13</td>\n",
              "      <td>48</td>\n",
              "      <td>8</td>\n",
              "      <td>5</td>\n",
              "      <td>13</td>\n",
              "    </tr>\n",
              "    <tr>\n",
              "      <th>AI_ELITE_7</th>\n",
              "      <td>53</td>\n",
              "      <td>53</td>\n",
              "      <td>uid_149</td>\n",
              "      <td>1</td>\n",
              "      <td>53</td>\n",
              "      <td>6</td>\n",
              "      <td>6 / 7</td>\n",
              "      <td>13</td>\n",
              "      <td>53</td>\n",
              "      <td>6</td>\n",
              "      <td>6</td>\n",
              "      <td>13</td>\n",
              "    </tr>\n",
              "  </tbody>\n",
              "</table>\n",
              "</div>\n",
              "      <button class=\"colab-df-convert\" onclick=\"convertToInteractive('df-2f873884-cc29-4b51-89cf-85a110184fdd')\"\n",
              "              title=\"Convert this dataframe to an interactive table.\"\n",
              "              style=\"display:none;\">\n",
              "        \n",
              "  <svg xmlns=\"http://www.w3.org/2000/svg\" height=\"24px\"viewBox=\"0 0 24 24\"\n",
              "       width=\"24px\">\n",
              "    <path d=\"M0 0h24v24H0V0z\" fill=\"none\"/>\n",
              "    <path d=\"M18.56 5.44l.94 2.06.94-2.06 2.06-.94-2.06-.94-.94-2.06-.94 2.06-2.06.94zm-11 1L8.5 8.5l.94-2.06 2.06-.94-2.06-.94L8.5 2.5l-.94 2.06-2.06.94zm10 10l.94 2.06.94-2.06 2.06-.94-2.06-.94-.94-2.06-.94 2.06-2.06.94z\"/><path d=\"M17.41 7.96l-1.37-1.37c-.4-.4-.92-.59-1.43-.59-.52 0-1.04.2-1.43.59L10.3 9.45l-7.72 7.72c-.78.78-.78 2.05 0 2.83L4 21.41c.39.39.9.59 1.41.59.51 0 1.02-.2 1.41-.59l7.78-7.78 2.81-2.81c.8-.78.8-2.07 0-2.86zM5.41 20L4 18.59l7.72-7.72 1.47 1.35L5.41 20z\"/>\n",
              "  </svg>\n",
              "      </button>\n",
              "      \n",
              "  <style>\n",
              "    .colab-df-container {\n",
              "      display:flex;\n",
              "      flex-wrap:wrap;\n",
              "      gap: 12px;\n",
              "    }\n",
              "\n",
              "    .colab-df-convert {\n",
              "      background-color: #E8F0FE;\n",
              "      border: none;\n",
              "      border-radius: 50%;\n",
              "      cursor: pointer;\n",
              "      display: none;\n",
              "      fill: #1967D2;\n",
              "      height: 32px;\n",
              "      padding: 0 0 0 0;\n",
              "      width: 32px;\n",
              "    }\n",
              "\n",
              "    .colab-df-convert:hover {\n",
              "      background-color: #E2EBFA;\n",
              "      box-shadow: 0px 1px 2px rgba(60, 64, 67, 0.3), 0px 1px 3px 1px rgba(60, 64, 67, 0.15);\n",
              "      fill: #174EA6;\n",
              "    }\n",
              "\n",
              "    [theme=dark] .colab-df-convert {\n",
              "      background-color: #3B4455;\n",
              "      fill: #D2E3FC;\n",
              "    }\n",
              "\n",
              "    [theme=dark] .colab-df-convert:hover {\n",
              "      background-color: #434B5C;\n",
              "      box-shadow: 0px 1px 3px 1px rgba(0, 0, 0, 0.15);\n",
              "      filter: drop-shadow(0px 1px 2px rgba(0, 0, 0, 0.3));\n",
              "      fill: #FFFFFF;\n",
              "    }\n",
              "  </style>\n",
              "\n",
              "      <script>\n",
              "        const buttonEl =\n",
              "          document.querySelector('#df-2f873884-cc29-4b51-89cf-85a110184fdd button.colab-df-convert');\n",
              "        buttonEl.style.display =\n",
              "          google.colab.kernel.accessAllowed ? 'block' : 'none';\n",
              "\n",
              "        async function convertToInteractive(key) {\n",
              "          const element = document.querySelector('#df-2f873884-cc29-4b51-89cf-85a110184fdd');\n",
              "          const dataTable =\n",
              "            await google.colab.kernel.invokeFunction('convertToInteractive',\n",
              "                                                     [key], {});\n",
              "          if (!dataTable) return;\n",
              "\n",
              "          const docLinkHtml = 'Like what you see? Visit the ' +\n",
              "            '<a target=\"_blank\" href=https://colab.research.google.com/notebooks/data_table.ipynb>data table notebook</a>'\n",
              "            + ' to learn more about interactive tables.';\n",
              "          element.innerHTML = '';\n",
              "          dataTable['output_type'] = 'display_data';\n",
              "          await google.colab.output.renderOutput(dataTable, element);\n",
              "          const docLink = document.createElement('div');\n",
              "          docLink.innerHTML = docLinkHtml;\n",
              "          element.appendChild(docLink);\n",
              "        }\n",
              "      </script>\n",
              "    </div>\n",
              "  </div>\n",
              "  "
            ]
          },
          "metadata": {},
          "execution_count": 34
        }
      ]
    },
    {
      "cell_type": "code",
      "source": [
        "ELITE_4=Data[Data[\"Batch \"]==\"AI_ELITE_4\"][\"marks\"]"
      ],
      "metadata": {
        "id": "pOiUmym_OXV-"
      },
      "execution_count": 38,
      "outputs": []
    },
    {
      "cell_type": "code",
      "source": [
        "ELITE_4"
      ],
      "metadata": {
        "colab": {
          "base_uri": "https://localhost:8080/"
        },
        "id": "r7o9hBX5PKJm",
        "outputId": "01a7a793-ce58-46e9-9b85-8d4b47249f6f"
      },
      "execution_count": 39,
      "outputs": [
        {
          "output_type": "execute_result",
          "data": {
            "text/plain": [
              "101    7\n",
              "102    5\n",
              "103    4\n",
              "104    4\n",
              "105    7\n",
              "106    5\n",
              "107    6\n",
              "108    2\n",
              "109    2\n",
              "110    4\n",
              "111    2\n",
              "112    5\n",
              "113    2\n",
              "114    2\n",
              "115    4\n",
              "116    2\n",
              "117    4\n",
              "118    5\n",
              "119    4\n",
              "120    3\n",
              "121    3\n",
              "122    5\n",
              "123    4\n",
              "124    5\n",
              "125    3\n",
              "126    3\n",
              "127    3\n",
              "128    4\n",
              "129    1\n",
              "130    3\n",
              "131    4\n",
              "132    4\n",
              "133    4\n",
              "134    4\n",
              "135    0\n",
              "136    5\n",
              "137    4\n",
              "138    4\n",
              "139    7\n",
              "140    4\n",
              "141    5\n",
              "142    4\n",
              "143    3\n",
              "144    4\n",
              "145    4\n",
              "146    4\n",
              "147    3\n",
              "148    2\n",
              "Name: marks, dtype: object"
            ]
          },
          "metadata": {},
          "execution_count": 39
        }
      ]
    },
    {
      "cell_type": "code",
      "source": [
        "ELITE_6=Data[Data[\"Batch \"]==\"AI_ELITE_6\"][\"marks\"]\n",
        "ELITE_7=Data[Data[\"Batch \"]==\"AI_ELITE_7\"][\"marks\"]"
      ],
      "metadata": {
        "id": "fKxCx_oEPRLZ"
      },
      "execution_count": 40,
      "outputs": []
    },
    {
      "cell_type": "code",
      "source": [
        "ELITE_4=ELITE_4.astype(int)\n",
        "ELITE_6=ELITE_6.astype(int)\n",
        "ELITE_7=ELITE_7.astype(int)"
      ],
      "metadata": {
        "id": "ZgXJmNQ_PaG4"
      },
      "execution_count": 44,
      "outputs": []
    },
    {
      "cell_type": "code",
      "source": [
        "ELITE_4.describe()"
      ],
      "metadata": {
        "colab": {
          "base_uri": "https://localhost:8080/"
        },
        "id": "lGB2iF3eQE5O",
        "outputId": "939046f9-8b24-4660-90a7-bf7966adeb95"
      },
      "execution_count": 45,
      "outputs": [
        {
          "output_type": "execute_result",
          "data": {
            "text/plain": [
              "count    48.000000\n",
              "mean      3.791667\n",
              "std       1.443376\n",
              "min       0.000000\n",
              "25%       3.000000\n",
              "50%       4.000000\n",
              "75%       4.250000\n",
              "max       7.000000\n",
              "Name: marks, dtype: float64"
            ]
          },
          "metadata": {},
          "execution_count": 45
        }
      ]
    },
    {
      "cell_type": "code",
      "source": [
        "plt.boxplot(ELITE_4)"
      ],
      "metadata": {
        "colab": {
          "base_uri": "https://localhost:8080/",
          "height": 404
        },
        "id": "eW7eOBd1QLVB",
        "outputId": "dc8803bf-685a-44df-8778-770f8c1ee9b7"
      },
      "execution_count": 47,
      "outputs": [
        {
          "output_type": "execute_result",
          "data": {
            "text/plain": [
              "{'whiskers': [<matplotlib.lines.Line2D at 0x7ffb9de94f40>,\n",
              "  <matplotlib.lines.Line2D at 0x7ffb9e44a220>],\n",
              " 'caps': [<matplotlib.lines.Line2D at 0x7ffb9e44a4c0>,\n",
              "  <matplotlib.lines.Line2D at 0x7ffb9e44a760>],\n",
              " 'boxes': [<matplotlib.lines.Line2D at 0x7ffb9de94ca0>],\n",
              " 'medians': [<matplotlib.lines.Line2D at 0x7ffb9e44aa00>],\n",
              " 'fliers': [<matplotlib.lines.Line2D at 0x7ffb9e44aca0>],\n",
              " 'means': []}"
            ]
          },
          "metadata": {},
          "execution_count": 47
        },
        {
          "output_type": "display_data",
          "data": {
            "text/plain": [
              "<Figure size 432x288 with 1 Axes>"
            ],
            "image/png": "[encoded data removed]"
          },
          "metadata": {
            "needs_background": "light"
          }
        }
      ]
    },
    {
      "cell_type": "code",
      "source": [
        "plt.boxplot(ELITE_6)"
      ],
      "metadata": {
        "colab": {
          "base_uri": "https://localhost:8080/",
          "height": 404
        },
        "id": "efiUfuRgWkI_",
        "outputId": "f01f7ec5-62b5-4bca-ac16-e3817cbdaed8"
      },
      "execution_count": 85,
      "outputs": [
        {
          "output_type": "execute_result",
          "data": {
            "text/plain": [
              "{'whiskers': [<matplotlib.lines.Line2D at 0x7ffb939e2a30>,\n",
              "  <matplotlib.lines.Line2D at 0x7ffb939e2cd0>],\n",
              " 'caps': [<matplotlib.lines.Line2D at 0x7ffb939e2f70>,\n",
              "  <matplotlib.lines.Line2D at 0x7ffb939f1250>],\n",
              " 'boxes': [<matplotlib.lines.Line2D at 0x7ffb939e2790>],\n",
              " 'medians': [<matplotlib.lines.Line2D at 0x7ffb939f14f0>],\n",
              " 'fliers': [<matplotlib.lines.Line2D at 0x7ffb939f1790>],\n",
              " 'means': []}"
            ]
          },
          "metadata": {},
          "execution_count": 85
        },
        {
          "output_type": "display_data",
          "data": {
            "text/plain": [
              "<Figure size 432x288 with 1 Axes>"
            ],
            "image/png": "[encoded data removed]"
          },
          "metadata": {
            "needs_background": "light"
          }
        }
      ]
    },
    {
      "cell_type": "code",
      "source": [
        "plt.boxplot(ELITE_7)"
      ],
      "metadata": {
        "colab": {
          "base_uri": "https://localhost:8080/",
          "height": 404
        },
        "id": "0HXroyFGWpjS",
        "outputId": "cef221f0-d28a-4143-9756-b9ff5951cc33"
      },
      "execution_count": 86,
      "outputs": [
        {
          "output_type": "execute_result",
          "data": {
            "text/plain": [
              "{'whiskers': [<matplotlib.lines.Line2D at 0x7ffb939d8a00>,\n",
              "  <matplotlib.lines.Line2D at 0x7ffb939d8ca0>],\n",
              " 'caps': [<matplotlib.lines.Line2D at 0x7ffb939d8f40>,\n",
              "  <matplotlib.lines.Line2D at 0x7ffb93968220>],\n",
              " 'boxes': [<matplotlib.lines.Line2D at 0x7ffb939d8760>],\n",
              " 'medians': [<matplotlib.lines.Line2D at 0x7ffb939684c0>],\n",
              " 'fliers': [<matplotlib.lines.Line2D at 0x7ffb93968760>],\n",
              " 'means': []}"
            ]
          },
          "metadata": {},
          "execution_count": 86
        },
        {
          "output_type": "display_data",
          "data": {
            "text/plain": [
              "<Figure size 432x288 with 1 Axes>"
            ],
            "image/png": "[encoded data removed]"
          },
          "metadata": {
            "needs_background": "light"
          }
        }
      ]
    },
    {
      "cell_type": "code",
      "source": [
        "ELITE_4.value_counts()"
      ],
      "metadata": {
        "colab": {
          "base_uri": "https://localhost:8080/"
        },
        "id": "GBrSi1ULQY4n",
        "outputId": "90d9218c-0819-45b3-f1d4-2b83df25a3e0"
      },
      "execution_count": 52,
      "outputs": [
        {
          "output_type": "execute_result",
          "data": {
            "text/plain": [
              "4    19\n",
              "5     8\n",
              "3     8\n",
              "2     7\n",
              "7     3\n",
              "6     1\n",
              "1     1\n",
              "0     1\n",
              "Name: marks, dtype: int64"
            ]
          },
          "metadata": {},
          "execution_count": 52
        }
      ]
    },
    {
      "cell_type": "code",
      "source": [
        "from scipy.stats import norm\n",
        "import statistics\n",
        "\n",
        "x_axis=list(ELITE_4)\n",
        "  \n",
        "# Calculating mean and standard deviation\n",
        "mean = statistics.mean(x_axis)\n",
        "sd = statistics.stdev(x_axis)\n",
        "  \n",
        "plt.plot(x_axis, norm.pdf(x_axis, mean, sd))\n",
        "plt.show()"
      ],
      "metadata": {
        "colab": {
          "base_uri": "https://localhost:8080/",
          "height": 265
        },
        "id": "BRTLAGTAQ9nA",
        "outputId": "c6892838-977a-4f0d-834d-9b4cd1173e37"
      },
      "execution_count": 87,
      "outputs": [
        {
          "output_type": "display_data",
          "data": {
            "text/plain": [
              "<Figure size 432x288 with 1 Axes>"
            ],
            "image/png": "[encoded data removed]"
          },
          "metadata": {
            "needs_background": "light"
          }
        }
      ]
    },
    {
      "cell_type": "code",
      "source": [
        "x_axis=list(ELITE_6)\n",
        "  \n",
        "# Calculating mean and standard deviation\n",
        "mean = statistics.mean(x_axis)\n",
        "sd = statistics.stdev(x_axis)\n",
        "  \n",
        "plt.plot(x_axis, norm.pdf(x_axis, mean, sd))\n",
        "plt.show()"
      ],
      "metadata": {
        "colab": {
          "base_uri": "https://localhost:8080/",
          "height": 267
        },
        "id": "K5QZ3dz7Rs8j",
        "outputId": "5a559b45-47da-484e-ebf5-15049aa413b6"
      },
      "execution_count": 66,
      "outputs": [
        {
          "output_type": "display_data",
          "data": {
            "text/plain": [
              "<Figure size 432x288 with 1 Axes>"
            ],
            "image/png": "[encoded data removed]"
          },
          "metadata": {
            "needs_background": "light"
          }
        }
      ]
    },
    {
      "cell_type": "code",
      "source": [
        "x_axis=list(ELITE_7)\n",
        "  \n",
        "# Calculating mean and standard deviation\n",
        "mean = statistics.mean(x_axis)\n",
        "sd = statistics.stdev(x_axis)\n",
        "  \n",
        "plt.plot(x_axis, norm.pdf(x_axis, mean, sd))\n",
        "plt.show()"
      ],
      "metadata": {
        "colab": {
          "base_uri": "https://localhost:8080/",
          "height": 265
        },
        "id": "J2XjscJBRTXe",
        "outputId": "0ccd4537-7cb7-4de4-e41d-afbf795e7511"
      },
      "execution_count": 69,
      "outputs": [
        {
          "output_type": "display_data",
          "data": {
            "text/plain": [
              "<Figure size 432x288 with 1 Axes>"
            ],
            "image/png": "[encoded data removed]"
          },
          "metadata": {
            "needs_background": "light"
          }
        }
      ]
    },
    {
      "cell_type": "code",
      "source": [
        "ELITE_6.describe()"
      ],
      "metadata": {
        "colab": {
          "base_uri": "https://localhost:8080/"
        },
        "id": "suYf3AonSLyJ",
        "outputId": "bf43ce56-4513-4ab1-dc79-bc0843d0a022"
      },
      "execution_count": 70,
      "outputs": [
        {
          "output_type": "execute_result",
          "data": {
            "text/plain": [
              "count    48.000000\n",
              "mean      4.229167\n",
              "std       1.640441\n",
              "min       0.000000\n",
              "25%       3.000000\n",
              "50%       4.000000\n",
              "75%       5.000000\n",
              "max       7.000000\n",
              "Name: marks, dtype: float64"
            ]
          },
          "metadata": {},
          "execution_count": 70
        }
      ]
    },
    {
      "cell_type": "code",
      "source": [
        "ELITE_7.describe()"
      ],
      "metadata": {
        "colab": {
          "base_uri": "https://localhost:8080/"
        },
        "id": "CyUkkRGiSWHT",
        "outputId": "49cd5ef8-8cc3-447e-efb3-25f246192a58"
      },
      "execution_count": 71,
      "outputs": [
        {
          "output_type": "execute_result",
          "data": {
            "text/plain": [
              "count    53.000000\n",
              "mean      5.056604\n",
              "std       1.446682\n",
              "min       2.000000\n",
              "25%       4.000000\n",
              "50%       5.000000\n",
              "75%       6.000000\n",
              "max       7.000000\n",
              "Name: marks, dtype: float64"
            ]
          },
          "metadata": {},
          "execution_count": 71
        }
      ]
    },
    {
      "cell_type": "code",
      "source": [
        "ELITE_4.describe()"
      ],
      "metadata": {
        "colab": {
          "base_uri": "https://localhost:8080/"
        },
        "id": "Ersk7pskSfKX",
        "outputId": "5fc3f73d-2156-401f-daa3-5751f3995276"
      },
      "execution_count": 72,
      "outputs": [
        {
          "output_type": "execute_result",
          "data": {
            "text/plain": [
              "count    48.000000\n",
              "mean      3.791667\n",
              "std       1.443376\n",
              "min       0.000000\n",
              "25%       3.000000\n",
              "50%       4.000000\n",
              "75%       4.250000\n",
              "max       7.000000\n",
              "Name: marks, dtype: float64"
            ]
          },
          "metadata": {},
          "execution_count": 72
        }
      ]
    },
    {
      "cell_type": "code",
      "source": [
        "print(ELITE_4.value_counts()[7])\n",
        "print(ELITE_6.value_counts()[7])\n",
        "print(ELITE_7.value_counts()[7])\n"
      ],
      "metadata": {
        "colab": {
          "base_uri": "https://localhost:8080/"
        },
        "id": "3__jj--OStLV",
        "outputId": "c7c4a4e6-1cf7-40bb-b933-b798b1054166"
      },
      "execution_count": 76,
      "outputs": [
        {
          "output_type": "stream",
          "name": "stdout",
          "text": [
            "3\n",
            "5\n",
            "10\n"
          ]
        }
      ]
    },
    {
      "cell_type": "code",
      "source": [
        "print(ELITE_4.value_counts()[0])\n",
        "print(ELITE_6.value_counts()[0])\n",
        "print(ELITE_7.value_counts()[2])\n"
      ],
      "metadata": {
        "colab": {
          "base_uri": "https://localhost:8080/"
        },
        "id": "AJsIrwcyTAUB",
        "outputId": "2449e5df-766c-4859-f969-a0daf056a6eb"
      },
      "execution_count": 78,
      "outputs": [
        {
          "output_type": "stream",
          "name": "stdout",
          "text": [
            "1\n",
            "1\n",
            "2\n"
          ]
        }
      ]
    },
    {
      "cell_type": "code",
      "source": [
        "import seaborn as sns"
      ],
      "metadata": {
        "id": "bRU2r3E1USwS"
      },
      "execution_count": 79,
      "outputs": []
    },
    {
      "cell_type": "code",
      "source": [
        "sns.countplot(x=ELITE_4)"
      ],
      "metadata": {
        "colab": {
          "base_uri": "https://localhost:8080/",
          "height": 296
        },
        "id": "eALiHSS6UUk7",
        "outputId": "bac67f80-9ee2-4e12-9fad-ab8e169ce5df"
      },
      "execution_count": 81,
      "outputs": [
        {
          "output_type": "execute_result",
          "data": {
            "text/plain": [
              "<Axes: xlabel='marks', ylabel='count'>"
            ]
          },
          "metadata": {},
          "execution_count": 81
        },
        {
          "output_type": "display_data",
          "data": {
            "text/plain": [
              "<Figure size 432x288 with 1 Axes>"
            ],
            "image/png": "[encoded data removed]"
          },
          "metadata": {
            "needs_background": "light"
          }
        }
      ]
    },
    {
      "cell_type": "code",
      "source": [
        "sns.countplot(x=ELITE_6)"
      ],
      "metadata": {
        "colab": {
          "base_uri": "https://localhost:8080/",
          "height": 296
        },
        "id": "pgLzfE5DUcr3",
        "outputId": "64b3f294-3252-43ff-8509-6755e66fc17d"
      },
      "execution_count": 82,
      "outputs": [
        {
          "output_type": "execute_result",
          "data": {
            "text/plain": [
              "<Axes: xlabel='marks', ylabel='count'>"
            ]
          },
          "metadata": {},
          "execution_count": 82
        },
        {
          "output_type": "display_data",
          "data": {
            "text/plain": [
              "<Figure size 432x288 with 1 Axes>"
            ],
            "image/png": "[encoded data removed]"
          },
          "metadata": {
            "needs_background": "light"
          }
        }
      ]
    },
    {
      "cell_type": "code",
      "source": [
        "sns.countplot(x=ELITE_7)"
      ],
      "metadata": {
        "colab": {
          "base_uri": "https://localhost:8080/",
          "height": 296
        },
        "id": "2Ngj-hIeUeMB",
        "outputId": "6d775c8b-d2d2-4438-b26b-14a135dd68bb"
      },
      "execution_count": 83,
      "outputs": [
        {
          "output_type": "execute_result",
          "data": {
            "text/plain": [
              "<Axes: xlabel='marks', ylabel='count'>"
            ]
          },
          "metadata": {},
          "execution_count": 83
        },
        {
          "output_type": "display_data",
          "data": {
            "text/plain": [
              "<Figure size 432x288 with 1 Axes>"
            ],
            "image/png": "[encoded data removed]"
          },
          "metadata": {
            "needs_background": "light"
          }
        }
      ]
    }
  ]
}